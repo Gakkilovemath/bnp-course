{
 "cells": [
  {
   "cell_type": "markdown",
   "metadata": {},
   "source": [
    "# Assigning papers\n",
    "In this notebook, I solve the linear assignment problem, to give each group of students a paper according to the global preferences."
   ]
  },
  {
   "cell_type": "code",
   "execution_count": 1,
   "metadata": {},
   "outputs": [
    {
     "name": "stdout",
     "output_type": "stream",
     "text": [
      "Populating the interactive namespace from numpy and matplotlib\n"
     ]
    }
   ],
   "source": [
    "%pylab inline\n",
    "figsize(8,5)"
   ]
  },
  {
   "cell_type": "code",
   "execution_count": 2,
   "metadata": {},
   "outputs": [],
   "source": [
    "# Import necessary libraries\n",
    "import numpy as np\n",
    "import pandas as pd\n",
    "import matplotlib.pyplot as plt\n",
    "import scipy.optimize as spi"
   ]
  },
  {
   "cell_type": "markdown",
   "metadata": {},
   "source": [
    "## Importing answers from the google form"
   ]
  },
  {
   "cell_type": "code",
   "execution_count": 3,
   "metadata": {},
   "outputs": [],
   "source": [
    "data = pd.read_csv(\"rankings.csv\")"
   ]
  },
  {
   "cell_type": "code",
   "execution_count": 4,
   "metadata": {},
   "outputs": [
    {
     "data": {
      "text/html": [
       "<div>\n",
       "<style scoped>\n",
       "    .dataframe tbody tr th:only-of-type {\n",
       "        vertical-align: middle;\n",
       "    }\n",
       "\n",
       "    .dataframe tbody tr th {\n",
       "        vertical-align: top;\n",
       "    }\n",
       "\n",
       "    .dataframe thead th {\n",
       "        text-align: right;\n",
       "    }\n",
       "</style>\n",
       "<table border=\"1\" class=\"dataframe\">\n",
       "  <thead>\n",
       "    <tr style=\"text-align: right;\">\n",
       "      <th></th>\n",
       "      <th>Timestamp</th>\n",
       "      <th>first and last name of group member 1</th>\n",
       "      <th>first and last name of group member 2</th>\n",
       "      <th>first and last name of group member 3 (if not filled, must have been discussed with us first)</th>\n",
       "      <th>Each row is a paper, each column is a preference  order. Please assign a unique preference to all papers. [Row 1: Bhattacharya et al., JASA'15]</th>\n",
       "      <th>Each row is a paper, each column is a preference  order. Please assign a unique preference to all papers. [Row 2]</th>\n",
       "      <th>Each row is a paper, each column is a preference  order. Please assign a unique preference to all papers. [Row 3]</th>\n",
       "      <th>Each row is a paper, each column is a preference  order. Please assign a unique preference to all papers. [Row 4]</th>\n",
       "      <th>Each row is a paper, each column is a preference  order. Please assign a unique preference to all papers. [Row 5]</th>\n",
       "      <th>Each row is a paper, each column is a preference  order. Please assign a unique preference to all papers. [Row 6]</th>\n",
       "      <th>...</th>\n",
       "      <th>Each row is a paper, each column is a preference  order. Please assign a unique preference to all papers. [Row 21]</th>\n",
       "      <th>Each row is a paper, each column is a preference  order. Please assign a unique preference to all papers. [Row 22]</th>\n",
       "      <th>Each row is a paper, each column is a preference  order. Please assign a unique preference to all papers. [Row 23]</th>\n",
       "      <th>Each row is a paper, each column is a preference  order. Please assign a unique preference to all papers. [Row 24]</th>\n",
       "      <th>Each row is a paper, each column is a preference  order. Please assign a unique preference to all papers. [Row 25]</th>\n",
       "      <th>Each row is a paper, each column is a preference  order. Please assign a unique preference to all papers. [Row 26]</th>\n",
       "      <th>Each row is a paper, each column is a preference  order. Please assign a unique preference to all papers. [Row 27]</th>\n",
       "      <th>Each row is a paper, each column is a preference  order. Please assign a unique preference to all papers. [Row 28]</th>\n",
       "      <th>Each row is a paper, each column is a preference  order. Please assign a unique preference to all papers. [Row 29]</th>\n",
       "      <th>Each row is a paper, each column is a preference  order. Please assign a unique preference to all papers. [Row 30: Wang, BA'17]</th>\n",
       "    </tr>\n",
       "  </thead>\n",
       "  <tbody>\n",
       "    <tr>\n",
       "      <th>0</th>\n",
       "      <td>2017/11/27 8:53:10 AM GMT+1</td>\n",
       "      <td>Yassine Benazzou</td>\n",
       "      <td>Marion Karakouzian</td>\n",
       "      <td>Charles Dognin</td>\n",
       "      <td>Column 18</td>\n",
       "      <td>Column 17</td>\n",
       "      <td>Column 10</td>\n",
       "      <td>Column 11</td>\n",
       "      <td>Column 9</td>\n",
       "      <td>Column 1: Top preference</td>\n",
       "      <td>...</td>\n",
       "      <td>Column 28</td>\n",
       "      <td>Column 16</td>\n",
       "      <td>Column 8</td>\n",
       "      <td>Column 6</td>\n",
       "      <td>Column 12</td>\n",
       "      <td>Column 4</td>\n",
       "      <td>Column 26</td>\n",
       "      <td>Column 30: Lowest preference</td>\n",
       "      <td>Column 7</td>\n",
       "      <td>Column 13</td>\n",
       "    </tr>\n",
       "    <tr>\n",
       "      <th>1</th>\n",
       "      <td>2017/11/27 6:43:34 PM GMT+1</td>\n",
       "      <td>Nguyen Victor</td>\n",
       "      <td>Perrin Julien</td>\n",
       "      <td>Loiseau Nicolas</td>\n",
       "      <td>Column 6</td>\n",
       "      <td>Column 7</td>\n",
       "      <td>Column 5</td>\n",
       "      <td>Column 8</td>\n",
       "      <td>Column 9</td>\n",
       "      <td>Column 4</td>\n",
       "      <td>...</td>\n",
       "      <td>Column 22</td>\n",
       "      <td>Column 23</td>\n",
       "      <td>Column 24</td>\n",
       "      <td>Column 3</td>\n",
       "      <td>Column 25</td>\n",
       "      <td>Column 26</td>\n",
       "      <td>Column 27</td>\n",
       "      <td>Column 28</td>\n",
       "      <td>Column 29</td>\n",
       "      <td>Column 30: Lowest preference</td>\n",
       "    </tr>\n",
       "    <tr>\n",
       "      <th>2</th>\n",
       "      <td>2017/11/27 10:35:01 PM GMT+1</td>\n",
       "      <td>Nicolas Schreuder</td>\n",
       "      <td>Sholom Schechtman</td>\n",
       "      <td>Amélie Segard</td>\n",
       "      <td>Column 5</td>\n",
       "      <td>Column 16</td>\n",
       "      <td>Column 20</td>\n",
       "      <td>Column 13</td>\n",
       "      <td>Column 12</td>\n",
       "      <td>Column 1: Top preference</td>\n",
       "      <td>...</td>\n",
       "      <td>Column 23</td>\n",
       "      <td>Column 29</td>\n",
       "      <td>Column 11</td>\n",
       "      <td>Column 15</td>\n",
       "      <td>Column 4</td>\n",
       "      <td>Column 9</td>\n",
       "      <td>Column 7</td>\n",
       "      <td>Column 8</td>\n",
       "      <td>Column 10</td>\n",
       "      <td>Column 28</td>\n",
       "    </tr>\n",
       "    <tr>\n",
       "      <th>3</th>\n",
       "      <td>2017/11/28 2:30:37 PM GMT+1</td>\n",
       "      <td>Johanna Lalou</td>\n",
       "      <td>Franz Antoine</td>\n",
       "      <td>Carles Jean-Christophe</td>\n",
       "      <td>Column 20</td>\n",
       "      <td>Column 15</td>\n",
       "      <td>Column 17</td>\n",
       "      <td>Column 3</td>\n",
       "      <td>Column 10</td>\n",
       "      <td>Column 1: Top preference</td>\n",
       "      <td>...</td>\n",
       "      <td>Column 16</td>\n",
       "      <td>Column 27</td>\n",
       "      <td>Column 14</td>\n",
       "      <td>Column 7</td>\n",
       "      <td>Column 22</td>\n",
       "      <td>Column 12</td>\n",
       "      <td>Column 8</td>\n",
       "      <td>Column 28</td>\n",
       "      <td>Column 29</td>\n",
       "      <td>Column 30: Lowest preference</td>\n",
       "    </tr>\n",
       "    <tr>\n",
       "      <th>4</th>\n",
       "      <td>2017/11/28 4:38:08 PM GMT+1</td>\n",
       "      <td>LEVY Thomas</td>\n",
       "      <td>LE MEUR Vincent</td>\n",
       "      <td>WATRIGANT Timothée</td>\n",
       "      <td>Column 14</td>\n",
       "      <td>Column 15</td>\n",
       "      <td>Column 16</td>\n",
       "      <td>Column 17</td>\n",
       "      <td>Column 5</td>\n",
       "      <td>Column 2</td>\n",
       "      <td>...</td>\n",
       "      <td>Column 28</td>\n",
       "      <td>Column 29</td>\n",
       "      <td>Column 26</td>\n",
       "      <td>Column 1: Top preference</td>\n",
       "      <td>Column 4</td>\n",
       "      <td>Column 23</td>\n",
       "      <td>Column 24</td>\n",
       "      <td>Column 10</td>\n",
       "      <td>Column 3</td>\n",
       "      <td>Column 25</td>\n",
       "    </tr>\n",
       "  </tbody>\n",
       "</table>\n",
       "<p>5 rows × 34 columns</p>\n",
       "</div>"
      ],
      "text/plain": [
       "                      Timestamp first and last name of group member 1  \\\n",
       "0   2017/11/27 8:53:10 AM GMT+1                      Yassine Benazzou   \n",
       "1   2017/11/27 6:43:34 PM GMT+1                         Nguyen Victor   \n",
       "2  2017/11/27 10:35:01 PM GMT+1                     Nicolas Schreuder   \n",
       "3   2017/11/28 2:30:37 PM GMT+1                         Johanna Lalou   \n",
       "4   2017/11/28 4:38:08 PM GMT+1                           LEVY Thomas   \n",
       "\n",
       "  first and last name of group member 2  \\\n",
       "0                    Marion Karakouzian   \n",
       "1                         Perrin Julien   \n",
       "2                     Sholom Schechtman   \n",
       "3                         Franz Antoine   \n",
       "4                       LE MEUR Vincent   \n",
       "\n",
       "  first and last name of group member 3 (if not filled, must have been discussed with us first)  \\\n",
       "0                                     Charles Dognin                                              \n",
       "1                                    Loiseau Nicolas                                              \n",
       "2                                      Amélie Segard                                              \n",
       "3                             Carles Jean-Christophe                                              \n",
       "4                                 WATRIGANT Timothée                                              \n",
       "\n",
       "  Each row is a paper, each column is a preference  order. Please assign a unique preference to all papers. [Row 1: Bhattacharya et al., JASA'15]  \\\n",
       "0                                          Column 18                                                                                                \n",
       "1                                           Column 6                                                                                                \n",
       "2                                           Column 5                                                                                                \n",
       "3                                          Column 20                                                                                                \n",
       "4                                          Column 14                                                                                                \n",
       "\n",
       "  Each row is a paper, each column is a preference  order. Please assign a unique preference to all papers. [Row 2]  \\\n",
       "0                                          Column 17                                                                  \n",
       "1                                           Column 7                                                                  \n",
       "2                                          Column 16                                                                  \n",
       "3                                          Column 15                                                                  \n",
       "4                                          Column 15                                                                  \n",
       "\n",
       "  Each row is a paper, each column is a preference  order. Please assign a unique preference to all papers. [Row 3]  \\\n",
       "0                                          Column 10                                                                  \n",
       "1                                           Column 5                                                                  \n",
       "2                                          Column 20                                                                  \n",
       "3                                          Column 17                                                                  \n",
       "4                                          Column 16                                                                  \n",
       "\n",
       "  Each row is a paper, each column is a preference  order. Please assign a unique preference to all papers. [Row 4]  \\\n",
       "0                                          Column 11                                                                  \n",
       "1                                           Column 8                                                                  \n",
       "2                                          Column 13                                                                  \n",
       "3                                           Column 3                                                                  \n",
       "4                                          Column 17                                                                  \n",
       "\n",
       "  Each row is a paper, each column is a preference  order. Please assign a unique preference to all papers. [Row 5]  \\\n",
       "0                                           Column 9                                                                  \n",
       "1                                           Column 9                                                                  \n",
       "2                                          Column 12                                                                  \n",
       "3                                          Column 10                                                                  \n",
       "4                                           Column 5                                                                  \n",
       "\n",
       "  Each row is a paper, each column is a preference  order. Please assign a unique preference to all papers. [Row 6]  \\\n",
       "0                           Column 1: Top preference                                                                  \n",
       "1                                           Column 4                                                                  \n",
       "2                           Column 1: Top preference                                                                  \n",
       "3                           Column 1: Top preference                                                                  \n",
       "4                                           Column 2                                                                  \n",
       "\n",
       "                                                                ...                                                                \\\n",
       "0                                                               ...                                                                 \n",
       "1                                                               ...                                                                 \n",
       "2                                                               ...                                                                 \n",
       "3                                                               ...                                                                 \n",
       "4                                                               ...                                                                 \n",
       "\n",
       "  Each row is a paper, each column is a preference  order. Please assign a unique preference to all papers. [Row 21]  \\\n",
       "0                                          Column 28                                                                   \n",
       "1                                          Column 22                                                                   \n",
       "2                                          Column 23                                                                   \n",
       "3                                          Column 16                                                                   \n",
       "4                                          Column 28                                                                   \n",
       "\n",
       "  Each row is a paper, each column is a preference  order. Please assign a unique preference to all papers. [Row 22]  \\\n",
       "0                                          Column 16                                                                   \n",
       "1                                          Column 23                                                                   \n",
       "2                                          Column 29                                                                   \n",
       "3                                          Column 27                                                                   \n",
       "4                                          Column 29                                                                   \n",
       "\n",
       "  Each row is a paper, each column is a preference  order. Please assign a unique preference to all papers. [Row 23]  \\\n",
       "0                                           Column 8                                                                   \n",
       "1                                          Column 24                                                                   \n",
       "2                                          Column 11                                                                   \n",
       "3                                          Column 14                                                                   \n",
       "4                                          Column 26                                                                   \n",
       "\n",
       "  Each row is a paper, each column is a preference  order. Please assign a unique preference to all papers. [Row 24]  \\\n",
       "0                                           Column 6                                                                   \n",
       "1                                           Column 3                                                                   \n",
       "2                                          Column 15                                                                   \n",
       "3                                           Column 7                                                                   \n",
       "4                           Column 1: Top preference                                                                   \n",
       "\n",
       "  Each row is a paper, each column is a preference  order. Please assign a unique preference to all papers. [Row 25]  \\\n",
       "0                                          Column 12                                                                   \n",
       "1                                          Column 25                                                                   \n",
       "2                                           Column 4                                                                   \n",
       "3                                          Column 22                                                                   \n",
       "4                                           Column 4                                                                   \n",
       "\n",
       "  Each row is a paper, each column is a preference  order. Please assign a unique preference to all papers. [Row 26]  \\\n",
       "0                                           Column 4                                                                   \n",
       "1                                          Column 26                                                                   \n",
       "2                                           Column 9                                                                   \n",
       "3                                          Column 12                                                                   \n",
       "4                                          Column 23                                                                   \n",
       "\n",
       "  Each row is a paper, each column is a preference  order. Please assign a unique preference to all papers. [Row 27]  \\\n",
       "0                                          Column 26                                                                   \n",
       "1                                          Column 27                                                                   \n",
       "2                                           Column 7                                                                   \n",
       "3                                           Column 8                                                                   \n",
       "4                                          Column 24                                                                   \n",
       "\n",
       "  Each row is a paper, each column is a preference  order. Please assign a unique preference to all papers. [Row 28]  \\\n",
       "0                       Column 30: Lowest preference                                                                   \n",
       "1                                          Column 28                                                                   \n",
       "2                                           Column 8                                                                   \n",
       "3                                          Column 28                                                                   \n",
       "4                                          Column 10                                                                   \n",
       "\n",
       "  Each row is a paper, each column is a preference  order. Please assign a unique preference to all papers. [Row 29]  \\\n",
       "0                                           Column 7                                                                   \n",
       "1                                          Column 29                                                                   \n",
       "2                                          Column 10                                                                   \n",
       "3                                          Column 29                                                                   \n",
       "4                                           Column 3                                                                   \n",
       "\n",
       "  Each row is a paper, each column is a preference  order. Please assign a unique preference to all papers. [Row 30: Wang, BA'17]  \n",
       "0                                          Column 13                                                                               \n",
       "1                       Column 30: Lowest preference                                                                               \n",
       "2                                          Column 28                                                                               \n",
       "3                       Column 30: Lowest preference                                                                               \n",
       "4                                          Column 25                                                                               \n",
       "\n",
       "[5 rows x 34 columns]"
      ]
     },
     "execution_count": 4,
     "metadata": {},
     "output_type": "execute_result"
    }
   ],
   "source": [
    "data.head()"
   ]
  },
  {
   "cell_type": "code",
   "execution_count": 5,
   "metadata": {},
   "outputs": [
    {
     "name": "stdout",
     "output_type": "stream",
     "text": [
      "n, p = 29 33\n"
     ]
    }
   ],
   "source": [
    "r = data.values[:,1:].copy()\n",
    "groups = []\n",
    "nRaw, pRaw = r.shape\n",
    "print(\"n, p =\", nRaw, pRaw) # Check n is equal to number of answers on Google Form: yes\n",
    "for row in r:\n",
    "    groups.append([name for name in row[:3]])\n",
    "    for i in range(3,pRaw):\n",
    "        pref = row[i].split(' ')[1]\n",
    "        row[i] = int(pref) if pref[-1] != ':' else int(pref[:-1]) \n",
    "\n",
    "r = r[:, 3:] # now r should contain only integers indicating the preferences\n",
    "nBeforeLatecomers, p = r.shape"
   ]
  },
  {
   "cell_type": "code",
   "execution_count": 6,
   "metadata": {},
   "outputs": [
    {
     "name": "stdout",
     "output_type": "stream",
     "text": [
      "n, p=  30 30\n"
     ]
    }
   ],
   "source": [
    "# Manually adding latecomers, grrr.\n",
    "groups.append([\"Ahmed Ben Salem\", \"Anouar Barchid\"])\n",
    "pref = 4*np.ones(p)\n",
    "pref[8] = 1\n",
    "pref[5] = 2\n",
    "pref[10]= 3\n",
    "r = np.concatenate((r, pref.reshape((1,p))))\n",
    "n, p = r.shape\n",
    "print(\"n, p= \", n, p)"
   ]
  },
  {
   "cell_type": "code",
   "execution_count": 7,
   "metadata": {},
   "outputs": [
    {
     "name": "stdout",
     "output_type": "stream",
     "text": [
      "[[18 17 10 11 9 1 5 19 29 2 22 15 25 3 14 27 20 21 24 23 28 16 8 6 12 4 26\n",
      "  30 7 13]\n",
      " [6 7 5 8 9 4 2 10 11 1 12 13 14 15 16 17 18 19 20 21 22 23 24 3 25 26 27\n",
      "  28 29 30]\n",
      " [5 16 20 13 12 1 3 14 6 21 24 25 26 27 30 17 18 19 22 2 23 29 11 15 4 9 7\n",
      "  8 10 28]]\n",
      "[['Yassine Benazzou', 'Marion Karakouzian', 'Charles Dognin'], ['Nguyen Victor', 'Perrin Julien', 'Loiseau Nicolas'], ['Nicolas Schreuder', 'Sholom Schechtman', 'Amélie Segard']]\n",
      "[['Yoan Russac', 'Marc Etheve', 'Clément Giron'], ['Samuel Ritchie', 'Robin Beaudet', 'Jean-Baptiste Remy'], ['Mathis Linger', 'Nicolas Huille', nan], ['Ahmed Ben Salem', 'Anouar Barchid']]\n"
     ]
    }
   ],
   "source": [
    "# some sanity checks \n",
    "print(r[:3])\n",
    "print(groups[:3])\n",
    "print(groups[-4:])"
   ]
  },
  {
   "cell_type": "markdown",
   "metadata": {},
   "source": [
    "## Solving the linear assignment problem"
   ]
  },
  {
   "cell_type": "markdown",
   "metadata": {},
   "source": [
    "Let $x_{ij}=1$ if group $i$ is assigned paper $j$, and $0$ otherwise. We have imposed a maximum of 2 groups per paper\n",
    "$$ \n",
    "\\sum_i x_{ij}\\leq 2, \\forall j\n",
    "$$\n",
    "and each group must have a paper\n",
    "$$\n",
    "\\sum_j x_{ij} = 1, \\forall i.\n",
    "$$\n",
    "We assume that the cost of assigning paper $j$ to group $i$ is proportional to the ranking $r_{ij}$ that group $i$ assigned to paper $j$. So we need to solve\n",
    "$$\n",
    "\\min \\sum r_{ij}x_{ij}\n",
    "$$\n",
    "subject to both constraints, and $x_i\\geq 0$."
   ]
  },
  {
   "cell_type": "code",
   "execution_count": 8,
   "metadata": {},
   "outputs": [
    {
     "name": "stdout",
     "output_type": "stream",
     "text": [
      "c= [18 17 10 11 9 1 5 19 29 2] ...\n",
      "(30, 900)\n",
      "[[ 1.  0.  0. ...,  0.  0.  0.]\n",
      " [ 0.  1.  0. ...,  0.  0.  0.]\n",
      " [ 0.  0.  1. ...,  0.  0.  0.]\n",
      " ..., \n",
      " [ 0.  0.  0. ...,  1.  0.  0.]\n",
      " [ 0.  0.  0. ...,  0.  1.  0.]\n",
      " [ 0.  0.  0. ...,  0.  0.  1.]]\n",
      "(30, 900)\n",
      "[[ 1.  1.  1. ...,  0.  0.  0.]\n",
      " [ 0.  0.  0. ...,  0.  0.  0.]\n",
      " [ 0.  0.  0. ...,  0.  0.  0.]\n",
      " ..., \n",
      " [ 0.  0.  0. ...,  0.  0.  0.]\n",
      " [ 0.  0.  0. ...,  0.  0.  0.]\n",
      " [ 0.  0.  0. ...,  1.  1.  1.]]\n"
     ]
    }
   ],
   "source": [
    "# We need to write the constraints in vector form, with x = (x_11,...,x_1P,x_21,...)\n",
    "c = r.flatten()\n",
    "A1 = np.concatenate([np.eye(p) for _ in range(n)], 1)\n",
    "A2 = np.kron(np.eye(n), np.ones((1,p))) \n",
    "\n",
    "# sanity checks\n",
    "print(\"c=\", c[:10], \"...\")\n",
    "print(A1.shape)\n",
    "print(np.matrix(A1))\n",
    "print(A2.shape)\n",
    "print(np.matrix(A2))"
   ]
  },
  {
   "cell_type": "code",
   "execution_count": 9,
   "metadata": {},
   "outputs": [],
   "source": [
    "c = r.flatten()\n",
    "res = spi.linprog(c, A_ub=A1, b_ub=2*np.ones((p,1)), A_eq=A2, b_eq=np.ones((n,1)), method=\"simplex\")"
   ]
  },
  {
   "cell_type": "code",
   "execution_count": 10,
   "metadata": {},
   "outputs": [
    {
     "name": "stdout",
     "output_type": "stream",
     "text": [
      "47.0 Optimization terminated successfully.\n",
      "On average, each group got its 1.56666666667 wish\n"
     ]
    },
    {
     "data": {
      "image/png": "[encoded data removed]",
      "text/plain": [
       "<matplotlib.figure.Figure at 0x150f6a6c18>"
      ]
     },
     "metadata": {},
     "output_type": "display_data"
    }
   ],
   "source": [
    "print(res.fun, res.message)\n",
    "print(\"On average, each group got its\", res.fun/n, \"wish\")\n",
    "prefs =  c[np.where(res.x)] #\n",
    "plt.hist(prefs)\n",
    "plt.title(\"ranking of the assigned paper\")\n",
    "plt.show()"
   ]
  },
  {
   "cell_type": "markdown",
   "metadata": {},
   "source": [
    "So about half of you got their first wish. And, worst case, you got your third wish."
   ]
  },
  {
   "cell_type": "code",
   "execution_count": 11,
   "metadata": {},
   "outputs": [],
   "source": [
    "import math # to detect nan's\n",
    "\n",
    "# Print assignemnts, paper numbers refer to the pdf we sent to describe the project\n",
    "x = np.reshape(res.x, ((n,p)))\n",
    "with open('paperAssignment.txt','w') as f:\n",
    "    for i in range(len(x)):\n",
    "        for person in groups[i]:\n",
    "            try:\n",
    "                math.isnan(person)\n",
    "            except:\n",
    "                f.write(person+\", \")\n",
    "        f.write(\"Paper: \"+str(1+np.where(x[i])[0][0])) # add one to convert 0-based \n",
    "                                                       # indexing to bibtex numbering\n",
    "        f.write(\"\\n\")"
   ]
  },
  {
   "cell_type": "code",
   "execution_count": 12,
   "metadata": {},
   "outputs": [
    {
     "name": "stdout",
     "output_type": "stream",
     "text": [
      "Yassine Benazzou, Marion Karakouzian, Charles Dognin, Paper: 6\n",
      "Nguyen Victor, Perrin Julien, Loiseau Nicolas, Paper: 10\n",
      "Nicolas Schreuder, Sholom Schechtman, Amélie Segard, Paper: 20\n",
      "Johanna Lalou, Franz Antoine, Carles Jean-Christophe, Paper: 4\n",
      "LEVY Thomas, LE MEUR Vincent, WATRIGANT Timothée, Paper: 24\n",
      "Hicham El Boukkouri, Michael Sok, Enguerand Acquarone, Paper: 10\n",
      "Jessica Matheron, Selim Dekali, Romuald Menuet, Paper: 8\n",
      "Léa BRESSON, Kolia IAKOVLEV, Elvire ROBLINd, Paper: 14\n",
      "Arthur Imbert, Gilles Cornec, Loïc Macherel, Paper: 28\n",
      "Albane Miron de l'Espinay, Erwan Bourceret, Matthieu Doutreligne, Paper: 14\n",
      "Elie Azeraf, Amine Hammami, Benjamin , Paper: 7\n",
      "Quan SUN, Wensi DING, Shasha CUI, Paper: 3\n",
      "Xingyuan XUE, Yicheng ZHANG, Geremie DJOHOSSOU, Paper: 27\n",
      "Mehdi Abbana Bennani, Sébastien Coube, Yannick Terme, Paper: 15\n",
      "Dimitri Bouche, Rémi de Torres, Cyril Verluise, Paper: 3\n",
      "Bruno ABILOU, Fatoumata DANSOKHO , Karim BENKIRANE , Paper: 7\n",
      "Sameh Rahmouni, Caroline Boucly, Geoffroy Ransac, Paper: 8\n",
      "Guillaume BIED, Samuel GIVOIS, François-Pierre PATY, Paper: 27\n",
      "Marion-Cécile Martin-Guyard, Margaux Gouysse, Chloé Mange, Paper: 24\n",
      "Samir TANFOUS, Guillaume VAUDAUX-RUTH, Simon AUBENEAU, Paper: 25\n",
      "Lucas Girard, Raphaële Adjerad, Benjamin Favetto, Paper: 6\n",
      "Charlotte PASQUIER, Lina CRISTANCHO FAJARDO, Jean-Michel ROUFOSSE, Paper: 5\n",
      "Antoine Grelety, Quentin Spalla, Zakarya Ali, Paper: 16\n",
      "Chloé Baraille, Edith Darin, Othmane Sebbouh, Paper: 25\n",
      "Erwan TUBAAP, Fatou SALL, Gauthier SCHWEITER, Paper: 1\n",
      "Albuțiu Ana, Diarra Assitan, Ziadi Flora, Paper: 11\n",
      "Yoan Russac, Marc Etheve, Clément Giron, Paper: 5\n",
      "Samuel Ritchie, Robin Beaudet, Jean-Baptiste Remy, Paper: 16\n",
      "Mathis Linger, Nicolas Huille, Paper: 20\n",
      "Ahmed Ben Salem, Anouar Barchid, Paper: 9\n",
      "\n"
     ]
    }
   ],
   "source": [
    "# Sanity check\n",
    "with open('paperAssignment.txt','r') as f:\n",
    "    contents = f.read()\n",
    "    print(contents)"
   ]
  },
  {
   "cell_type": "code",
   "execution_count": null,
   "metadata": {},
   "outputs": [],
   "source": []
  }
 ],
 "metadata": {
  "kernelspec": {
   "display_name": "Python 3",
   "language": "python",
   "name": "python3"
  },
  "language_info": {
   "codemirror_mode": {
    "name": "ipython",
    "version": 3
   },
   "file_extension": ".py",
   "mimetype": "text/x-python",
   "name": "python",
   "nbconvert_exporter": "python",
   "pygments_lexer": "ipython3",
   "version": "3.5.4"
  }
 },
 "nbformat": 4,
 "nbformat_minor": 1
}

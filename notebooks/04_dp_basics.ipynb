{
 "cells": [
  {
   "cell_type": "markdown",
   "metadata": {},
   "source": [
    "# Dirichlet processes 101\n",
    "\n",
    "In this notebook, I demonstrate the very basics of DPs: what samples look like, and how to condition. All theoretical matters like existence and unicity are swept under the rag."
   ]
  },
  {
   "cell_type": "code",
   "execution_count": 3,
   "metadata": {},
   "outputs": [
    {
     "name": "stdout",
     "output_type": "stream",
     "text": [
      "Populating the interactive namespace from numpy and matplotlib\n"
     ]
    }
   ],
   "source": [
    "%pylab inline\n",
    "figsize(10,5)"
   ]
  },
  {
   "cell_type": "code",
   "execution_count": 4,
   "metadata": {},
   "outputs": [],
   "source": [
    "# Import necessary libraries\n",
    "import numpy as np\n",
    "import numpy.random as npr\n",
    "import numpy.linalg as npl\n",
    "import matplotlib.pyplot as plt\n",
    "import scipy.stats as spst"
   ]
  },
  {
   "cell_type": "markdown",
   "metadata": {},
   "source": [
    "## Stick-breaking definition\n",
    "\n",
    "If $\\alpha>0$ and $G$ is a probability measure on the space where the atoms $\\phi$ live, then saying that a measure $\\xi$ follows a $\\text{DP}(\\alpha, G)$ distribution means that\n",
    "$$ \\xi = \\sum C_k\\delta_{\\phi_k},$$\n",
    "where \n",
    "$$ C_k = V_k\\prod_{i=1}^{k-1}(1-V_i), $$\n",
    "$$ V_1, V_2\\dots\\sim \\beta(1,\\alpha)\\text{ i.i.d},$$\n",
    "and\n",
    "$$ \\phi_1, \\phi_2, \\dots \\sim G \\text{ i.i.d.}$$\n",
    "\n",
    "This is what I mean when I say that\n",
    "* a DP is a random discrete measure with an infinite number of atoms.\n",
    "* a DP is specified through two parameters $\\alpha>0$ (the \"concentration\" of the DP) and $G$ (the \"base measure\" of the DP). "
   ]
  },
  {
   "cell_type": "markdown",
   "metadata": {},
   "source": [
    "## Visualizing DP samples"
   ]
  },
  {
   "cell_type": "markdown",
   "metadata": {},
   "source": [
    "The definition we used for DPs is constructive. The only issue is that the number of atoms if infinite. For visualization purposes, we can do as follows without any difference to the human eye: we fix a small $\\epsilon>0$ and sample $T$ atoms, where\n",
    "$$ T = \\inf\\{t \\text{ such that } 1-\\sum_{k=1}^t C_k <\\epsilon \\}.$$\n",
    "Note that the mass of $\\xi$ that we will not plot is $\\sum_{k>T}{C_k}<\\epsilon$."
   ]
  },
  {
   "cell_type": "code",
   "execution_count": 5,
   "metadata": {},
   "outputs": [],
   "source": [
    "G = spst.gamma(1)"
   ]
  },
  {
   "cell_type": "code",
   "execution_count": 6,
   "metadata": {},
   "outputs": [],
   "source": [
    "def sample(alpha=1., baseMeasure=G, eps=1e-3):\n",
    "    \"\"\"\n",
    "    sample a Dirichlet process from its stick-breaking construction\n",
    "    \"\"\"\n",
    "    V = [spst.beta(1,alpha).rvs()]\n",
    "    C = V.copy()    # We will store both C and V for ease of manipulation\n",
    "    phi = [baseMeasure.rvs()]\n",
    "\n",
    "    while 1-np.sum(C)>eps:\n",
    "        V.append(spst.beta(1,alpha).rvs())\n",
    "        C.append(V[-1]*np.prod([1-np.array(V[:-1])]))\n",
    "        phi.append(G.rvs())\n",
    "    \n",
    "    return V, C, phi"
   ]
  },
  {
   "cell_type": "markdown",
   "metadata": {},
   "source": [
    "Now we can plot our discrete measure"
   ]
  },
  {
   "cell_type": "code",
   "execution_count": 7,
   "metadata": {},
   "outputs": [],
   "source": [
    "def plotResults(V, C, phi):\n",
    "    \"\"\"\n",
    "    plot the results of sampling\n",
    "    \"\"\"\n",
    "    #plot the sample\n",
    "    plt.subplot(2,1,1)\n",
    "    print(\"Number of atoms:\", len(V))\n",
    "    for i in range(len(V)):\n",
    "        plt.plot([phi[i],phi[i]], [0,C[i]], 'b')\n",
    "    \n",
    "    # plot the base measure\n",
    "    m, M = np.min(phi), np.max(phi)\n",
    "    delta = (M-m)/2\n",
    "    xPlot = np.linspace(m-delta, M+delta,100)\n",
    "    plt.plot(xPlot, G.pdf(xPlot), 'g', label=\"G\")\n",
    "    plt.xlabel(\"$\\phi$\")\n",
    "    plt.legend()\n",
    "\n",
    "    #plot the stick-breaking\n",
    "    plt.subplot(2,1,2)\n",
    "    CC = np.cumsum([0]+C)\n",
    "    for i in range(len(C)):\n",
    "        plt.plot([CC[i],CC[i+1]],[0.5,0.5], marker='v')\n",
    "    plt.xlim([-.1,1.1])"
   ]
  },
  {
   "cell_type": "code",
   "execution_count": 8,
   "metadata": {},
   "outputs": [
    {
     "name": "stdout",
     "output_type": "stream",
     "text": [
      "Number of atoms: 79\n"
     ]
    },
    {
     "data": {
      "image/png": "[encoded data removed]",
      "text/plain": [
       "<matplotlib.figure.Figure at 0x1f1f19f128>"
      ]
     },
     "metadata": {},
     "output_type": "display_data"
    }
   ],
   "source": [
    "V, C, phi = sample(alpha=10, baseMeasure=G) # play with parameters alpha and G\n",
    "plotResults(V, C, phi)\n",
    "plt.show()"
   ]
  },
  {
   "cell_type": "code",
   "execution_count": 15,
   "metadata": {},
   "outputs": [
    {
     "name": "stdout",
     "output_type": "stream",
     "text": [
      "Number of atoms: 11\n"
     ]
    },
    {
     "data": {
      "image/png": "[encoded data removed]",
      "text/plain": [
       "<matplotlib.figure.Figure at 0x1f1f2e9668>"
      ]
     },
     "metadata": {},
     "output_type": "display_data"
    }
   ],
   "source": [
    "V, C, phi = sample(alpha=1, baseMeasure=G) # play with parameters alpha and G\n",
    "plotResults(V, C, phi)\n",
    "plt.show()"
   ]
  },
  {
   "cell_type": "markdown",
   "metadata": {},
   "source": [
    "## Conditioning"
   ]
  },
  {
   "cell_type": "markdown",
   "metadata": {},
   "source": [
    "By Ferguson's theorem, the posterior is \n",
    "$$\n",
    "\\xi \\vert \\phi_1,\\dots,\\phi_n \\sim \\text{DP}(\\alpha+n, \\frac{\\alpha}{\\alpha+n} G + \\frac{1}{\\alpha+n} \\sum_{i=1}^n\\delta_{\\phi_i}).\n",
    "$$\n",
    "so what do you think posterior samples look like?"
   ]
  }
 ],
 "metadata": {
  "kernelspec": {
   "display_name": "Python 3",
   "language": "python",
   "name": "python3"
  },
  "language_info": {
   "codemirror_mode": {
    "name": "ipython",
    "version": 3
   },
   "file_extension": ".py",
   "mimetype": "text/x-python",
   "name": "python",
   "nbconvert_exporter": "python",
   "pygments_lexer": "ipython3",
   "version": "3.5.4"
  }
 },
 "nbformat": 4,
 "nbformat_minor": 1
}
